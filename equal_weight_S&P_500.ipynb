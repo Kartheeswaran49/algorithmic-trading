{
 "cells": [
  {
   "cell_type": "markdown",
   "id": "4fd2f942",
   "metadata": {},
   "source": [
    "Required Library Imports"
   ]
  },
  {
   "cell_type": "code",
   "execution_count": 1,
   "id": "9a8d2234",
   "metadata": {},
   "outputs": [],
   "source": [
    "import numpy as np \n",
    "import pandas as pd \n",
    "import requests \n",
    "import xlsxwriter\n",
    "import math "
   ]
  },
  {
   "cell_type": "markdown",
   "id": "e882974e",
   "metadata": {},
   "source": [
    "Import all the stocks"
   ]
  },
  {
   "cell_type": "code",
   "execution_count": 2,
   "id": "1073f1b6",
   "metadata": {},
   "outputs": [],
   "source": [
    "stocks = pd.read_csv('sp_500_stocks.csv')"
   ]
  },
  {
   "cell_type": "code",
   "execution_count": null,
   "id": "cb0a9297",
   "metadata": {},
   "outputs": [],
   "source": []
  }
 ],
 "metadata": {
  "kernelspec": {
   "display_name": "Python 3",
   "language": "python",
   "name": "python3"
  },
  "language_info": {
   "codemirror_mode": {
    "name": "ipython",
    "version": 3
   },
   "file_extension": ".py",
   "mimetype": "text/x-python",
   "name": "python",
   "nbconvert_exporter": "python",
   "pygments_lexer": "ipython3",
   "version": "3.8.8"
  }
 },
 "nbformat": 4,
 "nbformat_minor": 5
}
